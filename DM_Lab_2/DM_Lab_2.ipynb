{
 "cells": [
  {
   "cell_type": "code",
   "execution_count": 51,
   "metadata": {},
   "outputs": [],
   "source": [
    "import pandas as pd\n",
    "import numpy as np"
   ]
  },
  {
   "cell_type": "code",
   "execution_count": 52,
   "metadata": {},
   "outputs": [
    {
     "data": {
      "text/html": [
       "<div>\n",
       "<style scoped>\n",
       "    .dataframe tbody tr th:only-of-type {\n",
       "        vertical-align: middle;\n",
       "    }\n",
       "\n",
       "    .dataframe tbody tr th {\n",
       "        vertical-align: top;\n",
       "    }\n",
       "\n",
       "    .dataframe thead th {\n",
       "        text-align: right;\n",
       "    }\n",
       "</style>\n",
       "<table border=\"1\" class=\"dataframe\">\n",
       "  <thead>\n",
       "    <tr style=\"text-align: right;\">\n",
       "      <th></th>\n",
       "      <th>v1</th>\n",
       "      <th>v2</th>\n",
       "      <th>Unnamed: 2</th>\n",
       "      <th>Unnamed: 3</th>\n",
       "      <th>Unnamed: 4</th>\n",
       "    </tr>\n",
       "  </thead>\n",
       "  <tbody>\n",
       "    <tr>\n",
       "      <td>5567</td>\n",
       "      <td>spam</td>\n",
       "      <td>this nd time we tri contact u u won pound priz...</td>\n",
       "      <td>NaN</td>\n",
       "      <td>NaN</td>\n",
       "      <td>NaN</td>\n",
       "    </tr>\n",
       "    <tr>\n",
       "      <td>5568</td>\n",
       "      <td>ham</td>\n",
       "      <td>will b go esplanad fr home</td>\n",
       "      <td>NaN</td>\n",
       "      <td>NaN</td>\n",
       "      <td>NaN</td>\n",
       "    </tr>\n",
       "    <tr>\n",
       "      <td>5569</td>\n",
       "      <td>ham</td>\n",
       "      <td>piti was mood for that soani other suggest</td>\n",
       "      <td>NaN</td>\n",
       "      <td>NaN</td>\n",
       "      <td>NaN</td>\n",
       "    </tr>\n",
       "    <tr>\n",
       "      <td>5570</td>\n",
       "      <td>ham</td>\n",
       "      <td>guy some bitch but i act like id interest buy ...</td>\n",
       "      <td>NaN</td>\n",
       "      <td>NaN</td>\n",
       "      <td>NaN</td>\n",
       "    </tr>\n",
       "    <tr>\n",
       "      <td>5571</td>\n",
       "      <td>ham</td>\n",
       "      <td>rofl it true it name</td>\n",
       "      <td>NaN</td>\n",
       "      <td>NaN</td>\n",
       "      <td>NaN</td>\n",
       "    </tr>\n",
       "  </tbody>\n",
       "</table>\n",
       "</div>"
      ],
      "text/plain": [
       "        v1                                                 v2 Unnamed: 2  \\\n",
       "5567  spam  this nd time we tri contact u u won pound priz...        NaN   \n",
       "5568   ham                         will b go esplanad fr home        NaN   \n",
       "5569   ham         piti was mood for that soani other suggest        NaN   \n",
       "5570   ham  guy some bitch but i act like id interest buy ...        NaN   \n",
       "5571   ham                               rofl it true it name        NaN   \n",
       "\n",
       "     Unnamed: 3 Unnamed: 4  \n",
       "5567        NaN        NaN  \n",
       "5568        NaN        NaN  \n",
       "5569        NaN        NaN  \n",
       "5570        NaN        NaN  \n",
       "5571        NaN        NaN  "
      ]
     },
     "execution_count": 52,
     "metadata": {},
     "output_type": "execute_result"
    }
   ],
   "source": [
    "df = pd.read_csv(r'C:\\Users\\Domovoy\\Python ML\\DM_Lab_1\\dataset.csv')\n",
    "df.tail()"
   ]
  },
  {
   "cell_type": "code",
   "execution_count": 53,
   "metadata": {},
   "outputs": [
    {
     "name": "stdout",
     "output_type": "stream",
     "text": [
      "P(ham) = 0.8659368269921034 | P(spam) = 0.13406317300789664\n"
     ]
    }
   ],
   "source": [
    "p_ham = (df[df['v1'] == 'ham'].count().v1) / (df.count().v1)\n",
    "p_spam = (df[df['v1'] == 'spam'].count().v1) / (df.count().v1)\n",
    "\n",
    "print(f'P(ham) = {p_ham} | P(spam) = {p_spam}')"
   ]
  },
  {
   "cell_type": "code",
   "execution_count": 54,
   "metadata": {
    "scrolled": true
   },
   "outputs": [
    {
     "name": "stdout",
     "output_type": "stream",
     "text": [
      "6950 2015 5887\n"
     ]
    }
   ],
   "source": [
    "from collections import defaultdict\n",
    "\n",
    "dict_ham = defaultdict(int)\n",
    "dict_spam = defaultdict(int)\n",
    "dict_global = defaultdict(int)\n",
    "\n",
    "with open(r\"C:\\Users\\Domovoy\\Python ML\\DM_lab_1\\ham.txt\") as f:\n",
    "    for line in f:\n",
    "       (key, val) = line.split()[:2]\n",
    "       dict_ham[key] = int(val)\n",
    "\n",
    "with open(r\"C:\\Users\\Domovoy\\Python ML\\DM_lab_1\\spam.txt\") as f:\n",
    "    for line in f:\n",
    "       (key, val) = line.split()[:2]\n",
    "       dict_spam[key] = int(val)\n",
    "        \n",
    "for d in (dict_ham, dict_spam): \n",
    "    for key, value in d.items():\n",
    "        dict_global[key] += int(value)\n",
    "\n",
    "print(len(dict_global.items()), len(dict_spam.items()), len(dict_ham.items()))"
   ]
  },
  {
   "cell_type": "code",
   "execution_count": 55,
   "metadata": {},
   "outputs": [],
   "source": [
    "def p_word_spam(word):\n",
    "    return int(dict_spam[word]) / len(dict_spam.keys())\n",
    "\n",
    "def p_word_ham(word):\n",
    "    return int(dict_ham[word]) / len(dict_ham.keys())"
   ]
  },
  {
   "cell_type": "code",
   "execution_count": 56,
   "metadata": {},
   "outputs": [],
   "source": [
    "def p_bodytext_ham(text):\n",
    "    body = set(text.split())\n",
    "    return np.prod(np.array([p_word_ham(word) for word in body]))\n",
    "\n",
    "def p_bodytext_spam(text):\n",
    "    body = set(text.split())\n",
    "    return np.prod(np.array([p_word_spam(word) for word in body]))"
   ]
  },
  {
   "cell_type": "code",
   "execution_count": 57,
   "metadata": {},
   "outputs": [],
   "source": [
    "def p_ham_bodytext(text):\n",
    "    return p_ham * p_bodytext_ham(text)\n",
    "\n",
    "def p_spam_bodytext(text):\n",
    "    return p_spam * p_bodytext_spam(text)"
   ]
  },
  {
   "cell_type": "code",
   "execution_count": 58,
   "metadata": {},
   "outputs": [
    {
     "name": "stdout",
     "output_type": "stream",
     "text": [
      "Probability of being ham : 0.9999997% \n",
      "Probability of being spam : 2.757858e-07%\n"
     ]
    }
   ],
   "source": [
    "import re\n",
    "import nltk\n",
    "from collections import defaultdict\n",
    "\n",
    "def process_text(text):\n",
    "    text = re.sub(r'[^a-zA-Z^ \\t\\n\\r]', '', text)\n",
    "    text = text.lower()\n",
    "    stop = \"''/am/is/are/be/being/been/have/has/having/had//do/does/doing/did/a/to/the/in/\"\n",
    "    stop_words = stop.split('/')\n",
    "    text = ' '.join([word for word in text.split(' ') if word not in stop_words])\n",
    "    ps = nltk.stem.SnowballStemmer('english')\n",
    "    text = ' '.join([ps.stem(word) for word in text.split(' ')])\n",
    "    \n",
    "    return text\n",
    "\n",
    "def count_words(text):\n",
    "    for word in text.split():\n",
    "        dict_ham[word] += 1\n",
    "        dict_spam[word] += 1\n",
    "        dict_global[word] += 1\n",
    "\n",
    "def predict(text):\n",
    "    text = process_text(text)\n",
    "    count_words(text)\n",
    "    \n",
    "    p1 = p_ham_bodytext(text)\n",
    "    p2 = p_spam_bodytext(text)\n",
    "    \n",
    "    p1, p2 = (p1/(p1+p2)), (p2/(p1+p2))\n",
    "    read_files()\n",
    "    return f'Probability of being ham : {p1:.7}% \\nProbability of being spam : {p2:.7}%'\n",
    "\n",
    "print(predict(df.v2[0]))\n"
   ]
  },
  {
   "cell_type": "code",
   "execution_count": 59,
   "metadata": {},
   "outputs": [
    {
     "data": {
      "text/html": [
       "<div>\n",
       "<style scoped>\n",
       "    .dataframe tbody tr th:only-of-type {\n",
       "        vertical-align: middle;\n",
       "    }\n",
       "\n",
       "    .dataframe tbody tr th {\n",
       "        vertical-align: top;\n",
       "    }\n",
       "\n",
       "    .dataframe thead th {\n",
       "        text-align: right;\n",
       "    }\n",
       "</style>\n",
       "<table border=\"1\" class=\"dataframe\">\n",
       "  <thead>\n",
       "    <tr style=\"text-align: right;\">\n",
       "      <th></th>\n",
       "      <th>v1</th>\n",
       "      <th>v2</th>\n",
       "      <th>Unnamed: 2</th>\n",
       "      <th>Unnamed: 3</th>\n",
       "      <th>Unnamed: 4</th>\n",
       "    </tr>\n",
       "  </thead>\n",
       "  <tbody>\n",
       "    <tr>\n",
       "      <td>0</td>\n",
       "      <td>ham</td>\n",
       "      <td>go until jurong point crazi avail on bugi n gr...</td>\n",
       "      <td>NaN</td>\n",
       "      <td>NaN</td>\n",
       "      <td>NaN</td>\n",
       "    </tr>\n",
       "    <tr>\n",
       "      <td>1</td>\n",
       "      <td>ham</td>\n",
       "      <td>ok lar joke wif u oni</td>\n",
       "      <td>NaN</td>\n",
       "      <td>NaN</td>\n",
       "      <td>NaN</td>\n",
       "    </tr>\n",
       "    <tr>\n",
       "      <td>2</td>\n",
       "      <td>spam</td>\n",
       "      <td>free entri wkli comp win fa cup final tkts st ...</td>\n",
       "      <td>NaN</td>\n",
       "      <td>NaN</td>\n",
       "      <td>NaN</td>\n",
       "    </tr>\n",
       "    <tr>\n",
       "      <td>3</td>\n",
       "      <td>ham</td>\n",
       "      <td>u dun say so ear hor u c alreadi then say</td>\n",
       "      <td>NaN</td>\n",
       "      <td>NaN</td>\n",
       "      <td>NaN</td>\n",
       "    </tr>\n",
       "    <tr>\n",
       "      <td>4</td>\n",
       "      <td>ham</td>\n",
       "      <td>nah i dont think he goe usf he live around her...</td>\n",
       "      <td>NaN</td>\n",
       "      <td>NaN</td>\n",
       "      <td>NaN</td>\n",
       "    </tr>\n",
       "  </tbody>\n",
       "</table>\n",
       "</div>"
      ],
      "text/plain": [
       "     v1                                                 v2 Unnamed: 2  \\\n",
       "0   ham  go until jurong point crazi avail on bugi n gr...        NaN   \n",
       "1   ham                              ok lar joke wif u oni        NaN   \n",
       "2  spam  free entri wkli comp win fa cup final tkts st ...        NaN   \n",
       "3   ham          u dun say so ear hor u c alreadi then say        NaN   \n",
       "4   ham  nah i dont think he goe usf he live around her...        NaN   \n",
       "\n",
       "  Unnamed: 3 Unnamed: 4  \n",
       "0        NaN        NaN  \n",
       "1        NaN        NaN  \n",
       "2        NaN        NaN  \n",
       "3        NaN        NaN  \n",
       "4        NaN        NaN  "
      ]
     },
     "execution_count": 59,
     "metadata": {},
     "output_type": "execute_result"
    }
   ],
   "source": [
    "df.head()"
   ]
  },
  {
   "cell_type": "code",
   "execution_count": null,
   "metadata": {},
   "outputs": [
    {
     "name": "stdout",
     "output_type": "stream",
     "text": [
      "\n",
      "Enter message to detect:roewrkg 439 k3mm imerm \n",
      "Probability of being ham : 0.2074241% \n",
      "Probability of being spam : 0.7925759%\n",
      "\n",
      "Enter message to detect:12312312\n",
      "Probability of being ham : 0.8659368% \n",
      "Probability of being spam : 0.1340632%\n",
      "\n",
      "Enter message to detect:-1\n"
     ]
    }
   ],
   "source": [
    "while True:\n",
    "    msg = str(input('\\nEnter message to detect:'))\n",
    "    if msg != '-1':\n",
    "        print(predict(msg))\n",
    "    else:\n",
    "        break"
   ]
  },
  {
   "cell_type": "code",
   "execution_count": null,
   "metadata": {},
   "outputs": [],
   "source": []
  }
 ],
 "metadata": {
  "kernelspec": {
   "display_name": "Python 3",
   "language": "python",
   "name": "python3"
  },
  "language_info": {
   "codemirror_mode": {
    "name": "ipython",
    "version": 3
   },
   "file_extension": ".py",
   "mimetype": "text/x-python",
   "name": "python",
   "nbconvert_exporter": "python",
   "pygments_lexer": "ipython3",
   "version": "3.7.4"
  }
 },
 "nbformat": 4,
 "nbformat_minor": 2
}
