{
 "cells": [
  {
   "cell_type": "code",
   "execution_count": 94,
   "metadata": {},
   "outputs": [],
   "source": [
    "import os\n",
    "import pandas as pd\n",
    "import matplotlib.pyplot as plt"
   ]
  },
  {
   "cell_type": "code",
   "execution_count": 95,
   "metadata": {},
   "outputs": [
    {
     "data": {
      "text/html": [
       "<div>\n",
       "<style scoped>\n",
       "    .dataframe tbody tr th:only-of-type {\n",
       "        vertical-align: middle;\n",
       "    }\n",
       "\n",
       "    .dataframe tbody tr th {\n",
       "        vertical-align: top;\n",
       "    }\n",
       "\n",
       "    .dataframe thead th {\n",
       "        text-align: right;\n",
       "    }\n",
       "</style>\n",
       "<table border=\"1\" class=\"dataframe\">\n",
       "  <thead>\n",
       "    <tr style=\"text-align: right;\">\n",
       "      <th></th>\n",
       "      <th>v1</th>\n",
       "      <th>v2</th>\n",
       "      <th>Unnamed: 2</th>\n",
       "      <th>Unnamed: 3</th>\n",
       "      <th>Unnamed: 4</th>\n",
       "    </tr>\n",
       "  </thead>\n",
       "  <tbody>\n",
       "    <tr>\n",
       "      <td>0</td>\n",
       "      <td>ham</td>\n",
       "      <td>Go until jurong point, crazy.. Available only ...</td>\n",
       "      <td>NaN</td>\n",
       "      <td>NaN</td>\n",
       "      <td>NaN</td>\n",
       "    </tr>\n",
       "    <tr>\n",
       "      <td>1</td>\n",
       "      <td>ham</td>\n",
       "      <td>Ok lar... Joking wif u oni...</td>\n",
       "      <td>NaN</td>\n",
       "      <td>NaN</td>\n",
       "      <td>NaN</td>\n",
       "    </tr>\n",
       "    <tr>\n",
       "      <td>2</td>\n",
       "      <td>spam</td>\n",
       "      <td>Free entry in 2 a wkly comp to win FA Cup fina...</td>\n",
       "      <td>NaN</td>\n",
       "      <td>NaN</td>\n",
       "      <td>NaN</td>\n",
       "    </tr>\n",
       "    <tr>\n",
       "      <td>3</td>\n",
       "      <td>ham</td>\n",
       "      <td>U dun say so early hor... U c already then say...</td>\n",
       "      <td>NaN</td>\n",
       "      <td>NaN</td>\n",
       "      <td>NaN</td>\n",
       "    </tr>\n",
       "    <tr>\n",
       "      <td>4</td>\n",
       "      <td>ham</td>\n",
       "      <td>Nah I don't think he goes to usf, he lives aro...</td>\n",
       "      <td>NaN</td>\n",
       "      <td>NaN</td>\n",
       "      <td>NaN</td>\n",
       "    </tr>\n",
       "    <tr>\n",
       "      <td>...</td>\n",
       "      <td>...</td>\n",
       "      <td>...</td>\n",
       "      <td>...</td>\n",
       "      <td>...</td>\n",
       "      <td>...</td>\n",
       "    </tr>\n",
       "    <tr>\n",
       "      <td>5567</td>\n",
       "      <td>spam</td>\n",
       "      <td>This is the 2nd time we have tried 2 contact u...</td>\n",
       "      <td>NaN</td>\n",
       "      <td>NaN</td>\n",
       "      <td>NaN</td>\n",
       "    </tr>\n",
       "    <tr>\n",
       "      <td>5568</td>\n",
       "      <td>ham</td>\n",
       "      <td>Will Ì_ b going to esplanade fr home?</td>\n",
       "      <td>NaN</td>\n",
       "      <td>NaN</td>\n",
       "      <td>NaN</td>\n",
       "    </tr>\n",
       "    <tr>\n",
       "      <td>5569</td>\n",
       "      <td>ham</td>\n",
       "      <td>Pity, * was in mood for that. So...any other s...</td>\n",
       "      <td>NaN</td>\n",
       "      <td>NaN</td>\n",
       "      <td>NaN</td>\n",
       "    </tr>\n",
       "    <tr>\n",
       "      <td>5570</td>\n",
       "      <td>ham</td>\n",
       "      <td>The guy did some bitching but I acted like i'd...</td>\n",
       "      <td>NaN</td>\n",
       "      <td>NaN</td>\n",
       "      <td>NaN</td>\n",
       "    </tr>\n",
       "    <tr>\n",
       "      <td>5571</td>\n",
       "      <td>ham</td>\n",
       "      <td>Rofl. Its true to its name</td>\n",
       "      <td>NaN</td>\n",
       "      <td>NaN</td>\n",
       "      <td>NaN</td>\n",
       "    </tr>\n",
       "  </tbody>\n",
       "</table>\n",
       "<p>5572 rows × 5 columns</p>\n",
       "</div>"
      ],
      "text/plain": [
       "        v1                                                 v2 Unnamed: 2  \\\n",
       "0      ham  Go until jurong point, crazy.. Available only ...        NaN   \n",
       "1      ham                      Ok lar... Joking wif u oni...        NaN   \n",
       "2     spam  Free entry in 2 a wkly comp to win FA Cup fina...        NaN   \n",
       "3      ham  U dun say so early hor... U c already then say...        NaN   \n",
       "4      ham  Nah I don't think he goes to usf, he lives aro...        NaN   \n",
       "...    ...                                                ...        ...   \n",
       "5567  spam  This is the 2nd time we have tried 2 contact u...        NaN   \n",
       "5568   ham              Will Ì_ b going to esplanade fr home?        NaN   \n",
       "5569   ham  Pity, * was in mood for that. So...any other s...        NaN   \n",
       "5570   ham  The guy did some bitching but I acted like i'd...        NaN   \n",
       "5571   ham                         Rofl. Its true to its name        NaN   \n",
       "\n",
       "     Unnamed: 3 Unnamed: 4  \n",
       "0           NaN        NaN  \n",
       "1           NaN        NaN  \n",
       "2           NaN        NaN  \n",
       "3           NaN        NaN  \n",
       "4           NaN        NaN  \n",
       "...         ...        ...  \n",
       "5567        NaN        NaN  \n",
       "5568        NaN        NaN  \n",
       "5569        NaN        NaN  \n",
       "5570        NaN        NaN  \n",
       "5571        NaN        NaN  \n",
       "\n",
       "[5572 rows x 5 columns]"
      ]
     },
     "execution_count": 95,
     "metadata": {},
     "output_type": "execute_result"
    }
   ],
   "source": [
    "path = r\"C:\\Users\\Domovoy\\Downloads\\sms-spam-corpus.csv\"\n",
    "df = pd.read_csv(path, encoding='latin1')\n",
    "df.head()['v2']\n",
    "df"
   ]
  },
  {
   "cell_type": "code",
   "execution_count": 96,
   "metadata": {},
   "outputs": [
    {
     "data": {
      "text/plain": [
       "0    go until jurong point crazy available only in ...\n",
       "1                              ok lar joking wif u oni\n",
       "2    free entry in  a wkly comp to win fa cup final...\n",
       "3          u dun say so early hor u c already then say\n",
       "4    nah i dont think he goes to usf he lives aroun...\n",
       "Name: v2, dtype: object"
      ]
     },
     "execution_count": 96,
     "metadata": {},
     "output_type": "execute_result"
    }
   ],
   "source": [
    "import re\n",
    "df['v2'].replace(regex=True, inplace=True, to_replace=r'[^a-zA-Z^ \\t\\n\\r]', value=r'')\n",
    "df['v2'] = df['v2'].astype(str).map(lambda x: x.lower())\n",
    "\n",
    "df.head()['v2']"
   ]
  },
  {
   "cell_type": "code",
   "execution_count": 97,
   "metadata": {},
   "outputs": [
    {
     "data": {
      "text/plain": [
       "0    go until jurong point crazy available only bug...\n",
       "1                              ok lar joking wif u oni\n",
       "2    free entry wkly comp win fa cup final tkts st ...\n",
       "3          u dun say so early hor u c already then say\n",
       "4    nah i dont think he goes usf he lives around h...\n",
       "Name: v2, dtype: object"
      ]
     },
     "execution_count": 97,
     "metadata": {},
     "output_type": "execute_result"
    }
   ],
   "source": [
    "stop = \"''/am/is/are/be/being/been/have/has/having/had//do/does/doing/did/a/to/the/in/\"\n",
    "stop_words = stop.split('/')\n",
    "\n",
    "df['v2'] = df['v2'].apply(lambda x:' '.join([word for word in x.split(' ') if word not in stop_words]))\n",
    "\n",
    "df.head()['v2']"
   ]
  },
  {
   "cell_type": "code",
   "execution_count": 98,
   "metadata": {},
   "outputs": [
    {
     "data": {
      "text/plain": [
       "0    go until jurong point crazi avail onli bugi n ...\n",
       "1                                ok lar joke wif u oni\n",
       "2    free entri wkli comp win fa cup final tkts st ...\n",
       "3          u dun say so earli hor u c alreadi then say\n",
       "4    nah i dont think he goe usf he live around her...\n",
       "Name: v2, dtype: object"
      ]
     },
     "execution_count": 98,
     "metadata": {},
     "output_type": "execute_result"
    }
   ],
   "source": [
    "import nltk\n",
    "# ps = nltk.stem.PorterStemmer()\n",
    "ps = nltk.stem.SnowballStemmer('english')\n",
    "df['v2'] = df['v2'].apply(lambda x:' '.join([ps.stem(word) for word in x.split(' ')]))\n",
    "\n",
    "df.head()['v2']"
   ]
  },
  {
   "cell_type": "code",
   "execution_count": 99,
   "metadata": {},
   "outputs": [],
   "source": [
    "from collections import defaultdict\n",
    "\n",
    "f_ham = open('ham.txt', 'w')\n",
    "f_spam = open('spam.txt', 'w')\n",
    "\n",
    "ham = df[df['v1'] == 'ham']['v2']\n",
    "spam = df[df['v1'] == 'spam']['v2']\n",
    "\n",
    "ham_count_dict = defaultdict(int)\n",
    "spam_count_dict = defaultdict(int)\n",
    "\n",
    "for sentence in ham:\n",
    "  for word in sentence.split():\n",
    "    ham_count_dict[word] += 1\n",
    "    f_ham.write('{} : {}'.format(word, ham_count_dict[word]) + '\\n')\n",
    "    \n",
    "\n",
    "for sentence in spam:\n",
    "  for word in sentence.split():\n",
    "    spam_count_dict[word] += 1\n",
    "    f_spam.write('{} : {}'.format(word, spam_count_dict[word]) + '\\n')\n",
    "\n",
    "ham_len = ham_count_dict.keys()\n",
    "spam_len = spam_count_dict.keys()"
   ]
  },
  {
   "cell_type": "code",
   "execution_count": 100,
   "metadata": {},
   "outputs": [
    {
     "data": {
      "image/png": "[encoded data removed]",
      "text/plain": [
       "<Figure size 432x288 with 1 Axes>"
      ]
     },
     "metadata": {
      "needs_background": "light"
     },
     "output_type": "display_data"
    }
   ],
   "source": [
    "import seaborn as sns\n",
    "fig, ax = plt.subplots()\n",
    "\n",
    "ham_data = [len(x) for x in ham_len]\n",
    "df_ham = pd.DataFrame({'ham_len' : ham_data})\n",
    "fig = sns.distplot(df_ham['ham_len']);\n",
    "fig.figure.savefig('fig_1.png')"
   ]
  },
  {
   "cell_type": "code",
   "execution_count": 101,
   "metadata": {},
   "outputs": [
    {
     "data": {
      "image/png": "[encoded data removed]",
      "text/plain": [
       "<Figure size 432x288 with 1 Axes>"
      ]
     },
     "metadata": {
      "needs_background": "light"
     },
     "output_type": "display_data"
    }
   ],
   "source": [
    "plt.hist(df_ham['ham_len'])\n",
    "plt.xlabel('ham words')\n",
    "plt.ylabel('len')\n",
    "plt.tight_layout()\n",
    "plt.savefig('fig_2.png')"
   ]
  },
  {
   "cell_type": "code",
   "execution_count": 102,
   "metadata": {},
   "outputs": [
    {
     "data": {
      "image/png": "[encoded data removed]",
      "text/plain": [
       "<Figure size 432x288 with 1 Axes>"
      ]
     },
     "metadata": {
      "needs_background": "light"
     },
     "output_type": "display_data"
    }
   ],
   "source": [
    "spam_data = [len(x) for x in spam_len]\n",
    "df_spam = pd.DataFrame({'spam_len' : spam_data})\n",
    "\n",
    "fig = sns.distplot(df_spam['spam_len']);\n",
    "fig.figure.savefig('fig_3.png')"
   ]
  },
  {
   "cell_type": "code",
   "execution_count": 103,
   "metadata": {},
   "outputs": [
    {
     "data": {
      "image/png": "[encoded data removed]",
      "text/plain": [
       "<Figure size 432x288 with 1 Axes>"
      ]
     },
     "metadata": {
      "needs_background": "light"
     },
     "output_type": "display_data"
    }
   ],
   "source": [
    "plt.hist(df_spam['spam_len'])\n",
    "plt.xlabel('spam words')\n",
    "plt.ylabel('len')\n",
    "plt.tight_layout()\n",
    "plt.savefig('fig_4.png')"
   ]
  },
  {
   "cell_type": "code",
   "execution_count": 104,
   "metadata": {},
   "outputs": [
    {
     "name": "stdout",
     "output_type": "stream",
     "text": [
      "Ham mean: 5.634574380843038 | Spam mean: 5.954861111111111\n"
     ]
    }
   ],
   "source": [
    "import numpy as np\n",
    "print('Ham mean: {} | Spam mean: {}'.format(np.mean(ham_data), np.mean(spam_data)))"
   ]
  },
  {
   "cell_type": "code",
   "execution_count": null,
   "metadata": {},
   "outputs": [],
   "source": [
    "ham_msg = [len(x) for x in ham]\n",
    "df_ham = pd.DataFrame({'ham_msg' : ham_msg})\n",
    "fig = sns.distplot(df_ham['ham_msg']);\n",
    "fig.figure.savefig('fig_5.png')"
   ]
  },
  {
   "cell_type": "code",
   "execution_count": null,
   "metadata": {},
   "outputs": [],
   "source": [
    "plt.hist(df_ham['ham_msg'])\n",
    "plt.xlabel('ham msg')\n",
    "plt.ylabel('len')\n",
    "plt.tight_layout()\n",
    "plt.savefig('fig_6.png')"
   ]
  },
  {
   "cell_type": "code",
   "execution_count": null,
   "metadata": {},
   "outputs": [],
   "source": [
    "spam_msg = [len(x) for x in spam]\n",
    "df_spam = pd.DataFrame({'spam_msg' : spam_msg})\n",
    "fig = sns.distplot(df_spam['spam_msg']);\n",
    "fig.figure.savefig('fig_7.png')"
   ]
  },
  {
   "cell_type": "code",
   "execution_count": null,
   "metadata": {},
   "outputs": [],
   "source": [
    "plt.hist(df_spam['spam_msg'])\n",
    "plt.xlabel('spam msg')\n",
    "plt.ylabel('len')\n",
    "plt.tight_layout()\n",
    "plt.savefig('fig_8.png')"
   ]
  },
  {
   "cell_type": "code",
   "execution_count": null,
   "metadata": {},
   "outputs": [],
   "source": [
    "print('Ham msg mean: {} | Spam msg mean: {}'.format(np.mean(ham_msg), np.mean(spam_msg)))"
   ]
  },
  {
   "cell_type": "code",
   "execution_count": null,
   "metadata": {},
   "outputs": [],
   "source": [
    "list_ham = list(ham_count_dict.items())\n",
    "list_ham.sort(key=lambda i: i[1])\n",
    "list_ham = list_ham[-20:]\n",
    "list_ham = dict(list_ham)\n",
    "\n",
    "list_spam = list(spam_count_dict.items())\n",
    "list_spam.sort(key=lambda i: i[1])\n",
    "list_spam = list_spam[-20:]\n",
    "list_spam = dict(list_spam)"
   ]
  },
  {
   "cell_type": "code",
   "execution_count": null,
   "metadata": {},
   "outputs": [],
   "source": [
    "plt.bar(list_ham.keys(), list_ham.values(), color='g')\n",
    "plt.xticks(rotation=90);\n",
    "plt.savefig('fig_9.png')"
   ]
  },
  {
   "cell_type": "code",
   "execution_count": null,
   "metadata": {},
   "outputs": [],
   "source": [
    "plt.bar(list_spam.keys(), list_spam.values(), color='r')\n",
    "plt.xticks(rotation=90);\n",
    "plt.savefig('fig_10.png')"
   ]
  },
  {
   "cell_type": "code",
   "execution_count": null,
   "metadata": {},
   "outputs": [],
   "source": []
  }
 ],
 "metadata": {
  "kernelspec": {
   "display_name": "Python 3",
   "language": "python",
   "name": "python3"
  },
  "language_info": {
   "codemirror_mode": {
    "name": "ipython",
    "version": 3
   },
   "file_extension": ".py",
   "mimetype": "text/x-python",
   "name": "python",
   "nbconvert_exporter": "python",
   "pygments_lexer": "ipython3",
   "version": "3.7.4"
  }
 },
 "nbformat": 4,
 "nbformat_minor": 2
}
